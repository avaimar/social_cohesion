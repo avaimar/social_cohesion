{
  "nbformat": 4,
  "nbformat_minor": 0,
  "metadata": {
    "colab": {
      "name": "GAN_for_student-level_randomization.ipynb",
      "provenance": [],
      "collapsed_sections": [],
      "toc_visible": true,
      "machine_shape": "hm",
      "include_colab_link": true
    },
    "kernelspec": {
      "name": "python3",
      "display_name": "Python 3"
    },
    "accelerator": "GPU"
  },
  "cells": [
    {
      "cell_type": "markdown",
      "metadata": {
        "id": "view-in-github",
        "colab_type": "text"
      },
      "source": [
        "<a href=\"https://colab.research.google.com/github/avaimar/social_cohesion/blob/main/GAN_for_student_level_randomization.ipynb\" target=\"_parent\"><img src=\"https://colab.research.google.com/assets/colab-badge.svg\" alt=\"Open In Colab\"/></a>"
      ]
    },
    {
      "cell_type": "markdown",
      "metadata": {
        "id": "NEX_jqVFFwS5"
      },
      "source": [
        "# Initialize Colab Environment"
      ]
    },
    {
      "cell_type": "markdown",
      "metadata": {
        "id": "i6uZC2jRwFU-"
      },
      "source": [
        "**Note 1: Sometimes the colab notebook runtimes 'break' and you get runtime errors for no reason. In these cases, restart the runtime by clicking 'Runtime' -> 'Restart Runtime' and run everything in this section again.** "
      ]
    },
    {
      "cell_type": "markdown",
      "metadata": {
        "id": "N0kqx2WRw4_t"
      },
      "source": [
        "**Note 2: If you care about speed, make sure your colab runtime uses a GPU. Do this by selecting 'Runtime' -> 'Change Runtime Type' -> 'Hardware Accelerator' -> 'GPU' (the runtime will restart and you'll have to re-run this section).** "
      ]
    },
    {
      "cell_type": "markdown",
      "metadata": {
        "id": "c-J9md9VF27b"
      },
      "source": [
        "We're going to mount your Google Drive first, using the command below. Just follow the prompts."
      ]
    },
    {
      "cell_type": "code",
      "metadata": {
        "id": "SXf8LcklKuhh",
        "colab": {
          "base_uri": "https://localhost:8080/"
        },
        "outputId": "e9a5811f-a703-4fd4-c48d-8f891ab1bd7c"
      },
      "source": [
        "from google.colab import drive\n",
        "drive.mount(\"/content/drive\")"
      ],
      "execution_count": null,
      "outputs": [
        {
          "output_type": "stream",
          "text": [
            "Mounted at /content/drive\n"
          ],
          "name": "stdout"
        }
      ]
    },
    {
      "cell_type": "markdown",
      "metadata": {
        "id": "VAKTTZ-uGBXb"
      },
      "source": [
        "Next, we're going to change the directory to your drive, and make a folder for the tutorial. If any of these steps has been done before, it will simply be skipped (and throw an error message, which you can ignore)."
      ]
    },
    {
      "cell_type": "code",
      "metadata": {
        "id": "-Tv91MgxLlpq",
        "colab": {
          "base_uri": "https://localhost:8080/"
        },
        "outputId": "2464dccd-a0d7-4569-9758-cc6a85ee2ad1"
      },
      "source": [
        "%cd ~\n",
        "%cd /content/drive/My\\ Drive/\n",
        "%mkdir wgan-tutorial\n",
        "%cd wgan-tutorial \n",
        "\n",
        "#eventually put our replication repo here \n",
        "#!git clone https://github.com/gsbDBI/ds-wgan/"
      ],
      "execution_count": null,
      "outputs": [
        {
          "output_type": "stream",
          "text": [
            "/root\n",
            "/content/drive/My Drive\n",
            "/content/drive/My Drive/wgan-tutorial\n"
          ],
          "name": "stdout"
        }
      ]
    },
    {
      "cell_type": "markdown",
      "metadata": {
        "id": "JOShMrbOdmPk"
      },
      "source": [
        "Next, install the wgan package written for the project: "
      ]
    },
    {
      "cell_type": "code",
      "metadata": {
        "id": "YVZRxaTedCfm",
        "colab": {
          "base_uri": "https://localhost:8080/"
        },
        "outputId": "bbe2ab88-c388-4296-f1bb-337bc66b4dac"
      },
      "source": [
        "!pip3 uninstall wgan\n",
        "!pip3 install git+https://github.com/gsbDBI/ds-wgan.git"
      ],
      "execution_count": null,
      "outputs": [
        {
          "output_type": "stream",
          "text": [
            "\u001b[33mWARNING: Skipping wgan as it is not installed.\u001b[0m\n",
            "Collecting git+https://github.com/gsbDBI/ds-wgan.git\n",
            "  Cloning https://github.com/gsbDBI/ds-wgan.git to /tmp/pip-req-build-pyw3fnfq\n",
            "  Running command git clone -q https://github.com/gsbDBI/ds-wgan.git /tmp/pip-req-build-pyw3fnfq\n",
            "Requirement already satisfied: numpy in /usr/local/lib/python3.7/dist-packages (from wgan==0.2) (1.19.5)\n",
            "Requirement already satisfied: torch>=1.1.0 in /usr/local/lib/python3.7/dist-packages (from wgan==0.2) (1.8.1+cu101)\n",
            "Requirement already satisfied: pandas in /usr/local/lib/python3.7/dist-packages (from wgan==0.2) (1.1.5)\n",
            "Requirement already satisfied: matplotlib in /usr/local/lib/python3.7/dist-packages (from wgan==0.2) (3.2.2)\n",
            "Requirement already satisfied: typing-extensions in /usr/local/lib/python3.7/dist-packages (from torch>=1.1.0->wgan==0.2) (3.7.4.3)\n",
            "Requirement already satisfied: python-dateutil>=2.7.3 in /usr/local/lib/python3.7/dist-packages (from pandas->wgan==0.2) (2.8.1)\n",
            "Requirement already satisfied: pytz>=2017.2 in /usr/local/lib/python3.7/dist-packages (from pandas->wgan==0.2) (2018.9)\n",
            "Requirement already satisfied: cycler>=0.10 in /usr/local/lib/python3.7/dist-packages (from matplotlib->wgan==0.2) (0.10.0)\n",
            "Requirement already satisfied: kiwisolver>=1.0.1 in /usr/local/lib/python3.7/dist-packages (from matplotlib->wgan==0.2) (1.3.1)\n",
            "Requirement already satisfied: pyparsing!=2.0.4,!=2.1.2,!=2.1.6,>=2.0.1 in /usr/local/lib/python3.7/dist-packages (from matplotlib->wgan==0.2) (2.4.7)\n",
            "Requirement already satisfied: six>=1.5 in /usr/local/lib/python3.7/dist-packages (from python-dateutil>=2.7.3->pandas->wgan==0.2) (1.15.0)\n",
            "Building wheels for collected packages: wgan\n",
            "  Building wheel for wgan (setup.py) ... \u001b[?25l\u001b[?25hdone\n",
            "  Created wheel for wgan: filename=wgan-0.2-cp37-none-any.whl size=12044 sha256=fc0c7ee5143677d6f1567e2e0343f6e0445057032940999e98d23cd02637816a\n",
            "  Stored in directory: /tmp/pip-ephem-wheel-cache-xli9mkex/wheels/3a/11/00/ece0eed5e7b5b70a47e0042a54d2470e4fe140182eb66463f6\n",
            "Successfully built wgan\n",
            "Installing collected packages: wgan\n",
            "Successfully installed wgan-0.2\n"
          ],
          "name": "stdout"
        }
      ]
    },
    {
      "cell_type": "markdown",
      "metadata": {
        "id": "7aTdYY4eL59q"
      },
      "source": [
        "# Simulating Data"
      ]
    },
    {
      "cell_type": "markdown",
      "metadata": {
        "id": "0DZ7K30JtcGl"
      },
      "source": [
        "The workflow for every single distribution you want to fit:\n",
        "\n",
        "0.   Load and prepare the data\n",
        "1.   Initialize a `wgan.DataWrapper` object, which takes care of handling the data\n",
        "2.   Initialize `wgan.Specifications` object given the `DataWrapper`, which summarizes hyperparameters, etc.\n",
        "3.   Initialize `wgan.Generator` & `wgan.Critic` given the `Specifications`\n",
        "4.   Preprocess the data with the `DataWrapper` object\n",
        "5.   Train the `Generator` & `Critic` via `wgan.train`\n",
        "6.   Replace columns in df with simulated data from `Generator` using `DataWrapper.apply_generator` \n",
        "7.   If you're interested in them, add the `Critic` outputs to the original and/or the generated df via `DataWrapper.apply_critic`\n",
        "7.   Explore the data via `compare_dfs` & save the new data.\n",
        "\n",
        "Since **we're fitting two distributions** (Y on X and t, as well as X on t), we'll have to do all these steps twice. \n",
        "To keep the code concise, we will put the two versions of every obejct type into one list respectively. Watch out so you **don't get confused by that**!\n"
      ]
    },
    {
      "cell_type": "markdown",
      "metadata": {
        "id": "lkuHIPgbx5ot"
      },
      "source": [
        "## Steps 0-3"
      ]
    },
    {
      "cell_type": "markdown",
      "metadata": {
        "id": "kIUW4xoJgH0N"
      },
      "source": [
        "First load a data file from our project repo"
      ]
    },
    {
      "cell_type": "code",
      "metadata": {
        "id": "_ma0-JoSgM4L"
      },
      "source": [
        "import pandas as pd \n",
        "import wgan \n",
        "import io \n",
        "import requests\n",
        "\n",
        "\n",
        "resp = requests.get(\n",
        "    'https://raw.github.com/gsbDBI/ds-wgan/master/data/original_data/cps.feather',\n",
        "    stream=True\n",
        ")\n",
        "resp.raw.decode_content = True\n",
        "mem_fh = io.BytesIO(resp.raw.read())\n",
        "df = pd.read_feather(mem_fh).drop([\"u74\",\"u75\"],axis=1)"
      ],
      "execution_count": null,
      "outputs": []
    },
    {
      "cell_type": "code",
      "metadata": {
        "id": "m-192mBMoKlA"
      },
      "source": [
        "df2 = pd.read_csv('/content/drive/MyDrive/final_cohesion.csv')"
      ],
      "execution_count": null,
      "outputs": []
    },
    {
      "cell_type": "code",
      "metadata": {
        "colab": {
          "base_uri": "https://localhost:8080/"
        },
        "id": "LFo_GC1Kp-c6",
        "outputId": "3d356f37-f641-47b5-a1ee-b1e66f50c7d6"
      },
      "source": [
        "print(df2)\n",
        "real_list = []\n",
        "for i in range(0,6642):\n",
        "  real_list.append(\"real\")\n",
        "df2['source']=real_list\n",
        "print(df2)"
      ],
      "execution_count": null,
      "outputs": [
        {
          "output_type": "stream",
          "text": [
            "      treatment  ffriend  bfriend  ...  f_csize  b_schoolid  source\n",
            "0             1        1        1  ...       37           9    real\n",
            "1             1        1        1  ...       37           9    real\n",
            "2             1        1        1  ...       37           9    real\n",
            "3             1        0        1  ...       37           9    real\n",
            "4             1        1        1  ...       37           9    real\n",
            "...         ...      ...      ...  ...      ...         ...     ...\n",
            "6637          0        1        0  ...       40         216    real\n",
            "6638          0        1        2  ...       40         216    real\n",
            "6639          0        1        2  ...       40         216    real\n",
            "6640          0        1        2  ...       40         216    real\n",
            "6641          0        1        0  ...       40         216    real\n",
            "\n",
            "[6642 rows x 13 columns]\n",
            "      treatment  ffriend  bfriend  ...  f_csize  b_schoolid  source\n",
            "0             1        1        1  ...       37           9    real\n",
            "1             1        1        1  ...       37           9    real\n",
            "2             1        1        1  ...       37           9    real\n",
            "3             1        0        1  ...       37           9    real\n",
            "4             1        1        1  ...       37           9    real\n",
            "...         ...      ...      ...  ...      ...         ...     ...\n",
            "6637          0        1        0  ...       40         216    real\n",
            "6638          0        1        2  ...       40         216    real\n",
            "6639          0        1        2  ...       40         216    real\n",
            "6640          0        1        2  ...       40         216    real\n",
            "6641          0        1        0  ...       40         216    real\n",
            "\n",
            "[6642 rows x 13 columns]\n"
          ],
          "name": "stdout"
        }
      ]
    },
    {
      "cell_type": "code",
      "metadata": {
        "colab": {
          "base_uri": "https://localhost:8080/"
        },
        "id": "vW3rGiimqgqy",
        "outputId": "24651e5b-fab0-4d46-af40-f2bc5eda0fa1"
      },
      "source": [
        "df2_balanced = df2.sample(2*len(df), weights=(1-df.t.mean())*df.t+df.t.mean()*(1-df.t), replace=True) # balanced df for training\n",
        "\n",
        "# X | t\n",
        "continuous_vars_0 = [\"ageinm\", \"braven_sd\", \"beyes_sd\", \"b_schoolsize\",\"f_csize\",\"b_schoolid\"]\n",
        "continuous_lower_bounds_0 = {\"b_schoolsize\":0,\"f_csize\":0,\"b_schoolid\":0}\n",
        "categorical_vars_0 = [\"ffriend\", \"bfriend\", \"male\", \"refugee\",\"astudent\"]\n",
        "context_vars_0 = [\"treatment\"]\n",
        "\n",
        "# Y | X, t\n",
        "continuous_vars_1 = []\n",
        "continuous_lower_bounds_1 = {}\n",
        "categorical_vars_1 = [\"ffriend\"]\n",
        "context_vars_1 = [\"ageinm\", \"braven_sd\", \"beyes_sd\", \"b_schoolsize\",\"f_csize\",\"b_schoolid\",\"ffriend\", \"bfriend\", \"male\", \"refugee\",\"astudent\",\"treatment\"]\n",
        "\n",
        "# Initialize objects\n",
        "data_wrappers = [wgan.DataWrapper(df2_balanced, continuous_vars_0, categorical_vars_0, \n",
        "                                  context_vars_0, continuous_lower_bounds_0),\n",
        "                 wgan.DataWrapper(df2_balanced, continuous_vars_1, categorical_vars_1, \n",
        "                                  context_vars_1, continuous_lower_bounds_1)]\n",
        "specs = [wgan.Specifications(dw, batch_size=4096, max_epochs=1000, critic_lr=1e-3, generator_lr=1e-3,\n",
        "                             print_every=100, device = \"cuda\") for dw in data_wrappers]\n",
        "generators = [wgan.Generator(spec) for spec in specs]\n",
        "critics = [wgan.Critic(spec) for spec in specs]"
      ],
      "execution_count": null,
      "outputs": [
        {
          "output_type": "stream",
          "text": [
            "settings: {'optimizer': <class 'torch.optim.adam.Adam'>, 'critic_d_hidden': [128, 128, 128], 'critic_dropout': 0, 'critic_steps': 15, 'critic_lr': 0.001, 'critic_gp_factor': 5, 'generator_d_hidden': [128, 128, 128], 'generator_dropout': 0.1, 'generator_lr': 0.001, 'generator_d_noise': 17, 'generator_optimizer': 'optimizer', 'max_epochs': 1000, 'batch_size': 4096, 'test_set_size': 16, 'load_checkpoint': None, 'save_checkpoint': None, 'save_every': 100, 'print_every': 100, 'device': 'cuda'}\n",
            "settings: {'optimizer': <class 'torch.optim.adam.Adam'>, 'critic_d_hidden': [128, 128, 128], 'critic_dropout': 0, 'critic_steps': 15, 'critic_lr': 0.001, 'critic_gp_factor': 5, 'generator_d_hidden': [128, 128, 128], 'generator_dropout': 0.1, 'generator_lr': 0.001, 'generator_d_noise': 2, 'generator_optimizer': 'optimizer', 'max_epochs': 1000, 'batch_size': 4096, 'test_set_size': 16, 'load_checkpoint': None, 'save_checkpoint': None, 'save_every': 100, 'print_every': 100, 'device': 'cuda'}\n"
          ],
          "name": "stdout"
        }
      ]
    },
    {
      "cell_type": "code",
      "metadata": {
        "colab": {
          "base_uri": "https://localhost:8080/"
        },
        "id": "v5f2_qcbraF8",
        "outputId": "eef59c2e-a9f9-4f54-dd36-cc3f8a4d0839"
      },
      "source": [
        "print(df)"
      ],
      "execution_count": null,
      "outputs": [
        {
          "output_type": "stream",
          "text": [
            "      source    t   age  education  ...  nodegree       re74       re75        re78\n",
            "0       real  1.0  37.0       11.0  ...       1.0      0.000      0.000   9930.0460\n",
            "1       real  1.0  22.0        9.0  ...       1.0      0.000      0.000   3595.8940\n",
            "2       real  1.0  30.0       12.0  ...       0.0      0.000      0.000  24909.4500\n",
            "3       real  1.0  27.0       11.0  ...       1.0      0.000      0.000   7506.1460\n",
            "4       real  1.0  33.0        8.0  ...       1.0      0.000      0.000    289.7899\n",
            "...      ...  ...   ...        ...  ...       ...        ...        ...         ...\n",
            "16172   real  0.0  22.0       12.0  ...       0.0   3975.352   6801.435   2757.4380\n",
            "16173   real  0.0  20.0       12.0  ...       0.0   1445.939  11832.240   6895.0720\n",
            "16174   real  0.0  37.0       12.0  ...       0.0   1733.951   1559.371   4221.8650\n",
            "16175   real  0.0  47.0        9.0  ...       1.0  16914.350  11384.660  13671.9300\n",
            "16176   real  0.0  40.0       10.0  ...       1.0  13628.660  13144.550   7979.7240\n",
            "\n",
            "[16177 rows x 11 columns]\n"
          ],
          "name": "stdout"
        }
      ]
    },
    {
      "cell_type": "markdown",
      "metadata": {
        "id": "dqhWpdWsLCIH"
      },
      "source": [
        "After loading in our data as `df`, we will build from it second dataframe called `df_balanced`, by sampling treated and controls with similar probability from `df`. We will train our WGAN on `df_balanced`, which makes sure the quality of the generated outcomes is similar for both treatment groups.\n",
        "\n"
      ]
    },
    {
      "cell_type": "code",
      "metadata": {
        "id": "pJ8UdIfZMAbA",
        "colab": {
          "base_uri": "https://localhost:8080/"
        },
        "outputId": "4a573c5f-c360-49ea-b707-c4eebe2625a2"
      },
      "source": [
        "df_balanced = df.sample(2*len(df), weights=(1-df.t.mean())*df.t+df.t.mean()*(1-df.t), replace=True) # balanced df for training\n",
        "\n",
        "# X | t\n",
        "continuous_vars_0 = [\"age\", \"education\", \"re74\", \"re75\"]\n",
        "continuous_lower_bounds_0 = {\"re74\": 0, \"re75\": 0}\n",
        "categorical_vars_0 = [\"black\", \"hispanic\", \"married\", \"nodegree\"]\n",
        "context_vars_0 = [\"t\"]\n",
        "\n",
        "# Y | X, t\n",
        "continuous_vars_1 = [\"re78\"]\n",
        "continuous_lower_bounds_1 = {\"re78\": 0}\n",
        "categorical_vars_1 = []\n",
        "context_vars_1 = [\"t\", \"age\", \"education\", \"re74\", \"re75\", \"black\", \"hispanic\", \"married\", \"nodegree\"]\n",
        "\n",
        "# Initialize objects\n",
        "data_wrappers = [wgan.DataWrapper(df_balanced, continuous_vars_0, categorical_vars_0, \n",
        "                                  context_vars_0, continuous_lower_bounds_0),\n",
        "                 wgan.DataWrapper(df_balanced, continuous_vars_1, categorical_vars_1, \n",
        "                                  context_vars_1, continuous_lower_bounds_1)]\n",
        "specs = [wgan.Specifications(dw, batch_size=4096, max_epochs=1000, critic_lr=1e-3, generator_lr=1e-3,\n",
        "                             print_every=100, device = \"cuda\") for dw in data_wrappers]\n",
        "generators = [wgan.Generator(spec) for spec in specs]\n",
        "critics = [wgan.Critic(spec) for spec in specs]"
      ],
      "execution_count": null,
      "outputs": [
        {
          "output_type": "stream",
          "text": [
            "settings: {'optimizer': <class 'torch.optim.adam.Adam'>, 'critic_d_hidden': [128, 128, 128], 'critic_dropout': 0, 'critic_steps': 15, 'critic_lr': 0.001, 'critic_gp_factor': 5, 'generator_d_hidden': [128, 128, 128], 'generator_dropout': 0.1, 'generator_lr': 0.001, 'generator_d_noise': 12, 'generator_optimizer': 'optimizer', 'max_epochs': 1000, 'batch_size': 4096, 'test_set_size': 16, 'load_checkpoint': None, 'save_checkpoint': None, 'save_every': 100, 'print_every': 100, 'device': 'cuda'}\n",
            "settings: {'optimizer': <class 'torch.optim.adam.Adam'>, 'critic_d_hidden': [128, 128, 128], 'critic_dropout': 0, 'critic_steps': 15, 'critic_lr': 0.001, 'critic_gp_factor': 5, 'generator_d_hidden': [128, 128, 128], 'generator_dropout': 0.1, 'generator_lr': 0.001, 'generator_d_noise': 1, 'generator_optimizer': 'optimizer', 'max_epochs': 1000, 'batch_size': 4096, 'test_set_size': 16, 'load_checkpoint': None, 'save_checkpoint': None, 'save_every': 100, 'print_every': 100, 'device': 'cuda'}\n"
          ],
          "name": "stdout"
        }
      ]
    },
    {
      "cell_type": "markdown",
      "metadata": {
        "id": "BTx5sLLbyC81"
      },
      "source": [
        "## Steps 4 & 5"
      ]
    },
    {
      "cell_type": "markdown",
      "metadata": {
        "id": "Atf8Yhyz3C8h"
      },
      "source": [
        "Next, we train the model. How long this will take depends on the batch_size, the size of your data set and the max_epochs you specified.\n",
        "\n",
        "You can also abort at any time, the model will keep its parameters at their most recent values during training. You can also resume the training, but this resets the optimizer state which basically means you might as well repeat at Step 3."
      ]
    },
    {
      "cell_type": "code",
      "metadata": {
        "id": "8_xTg3GVQvEY",
        "colab": {
          "base_uri": "https://localhost:8080/"
        },
        "outputId": "5ba3ec0d-1e43-413f-949d-c24ff81554b8"
      },
      "source": [
        "# train X | t\n",
        "x, context = data_wrappers[0].preprocess(df_balanced)\n",
        "wgan.train(generators[0], critics[0], x, context, specs[0])"
      ],
      "execution_count": null,
      "outputs": [
        {
          "output_type": "stream",
          "text": [
            "epoch 0 | step 9 | WD_test 0.45 | WD_train 0.18 | sec passed 6 |\n",
            "epoch 100 | step 809 | WD_test 0.68 | WD_train 0.77 | sec passed 29 |\n",
            "epoch 200 | step 1609 | WD_test 0.53 | WD_train 0.56 | sec passed 30 |\n",
            "epoch 300 | step 2409 | WD_test 0.58 | WD_train 0.53 | sec passed 30 |\n",
            "epoch 400 | step 3209 | WD_test 0.25 | WD_train 0.39 | sec passed 30 |\n",
            "epoch 500 | step 4009 | WD_test 0.43 | WD_train 0.39 | sec passed 30 |\n",
            "epoch 600 | step 4809 | WD_test 0.26 | WD_train 0.37 | sec passed 30 |\n",
            "epoch 700 | step 5609 | WD_test 0.27 | WD_train 0.33 | sec passed 30 |\n",
            "epoch 800 | step 6409 | WD_test -0.01 | WD_train 0.33 | sec passed 30 |\n",
            "epoch 900 | step 7209 | WD_test 0.09 | WD_train 0.32 | sec passed 30 |\n"
          ],
          "name": "stdout"
        }
      ]
    },
    {
      "cell_type": "code",
      "metadata": {
        "colab": {
          "base_uri": "https://localhost:8080/"
        },
        "id": "HTIt05DosLBK",
        "outputId": "aed77fee-10f2-4337-b2f5-676c7729df0d"
      },
      "source": [
        "x, context = data_wrappers[0].preprocess(df2_balanced)\n",
        "wgan.train(generators[0], critics[0], x, context, specs[0])"
      ],
      "execution_count": null,
      "outputs": [
        {
          "output_type": "stream",
          "text": [
            "epoch 0 | step 9 | WD_test 0.51 | WD_train 0.17 | sec passed 0 |\n",
            "epoch 100 | step 809 | WD_test 0.96 | WD_train 1.14 | sec passed 32 |\n",
            "epoch 200 | step 1609 | WD_test 0.95 | WD_train 1.01 | sec passed 32 |\n",
            "epoch 300 | step 2409 | WD_test 0.84 | WD_train 0.94 | sec passed 32 |\n",
            "epoch 400 | step 3209 | WD_test 0.75 | WD_train 0.91 | sec passed 32 |\n",
            "epoch 500 | step 4009 | WD_test 0.87 | WD_train 0.89 | sec passed 32 |\n",
            "epoch 600 | step 4809 | WD_test 0.65 | WD_train 0.83 | sec passed 32 |\n",
            "epoch 700 | step 5609 | WD_test 0.74 | WD_train 0.8 | sec passed 32 |\n",
            "epoch 800 | step 6409 | WD_test 0.63 | WD_train 0.76 | sec passed 32 |\n",
            "epoch 900 | step 7209 | WD_test 0.65 | WD_train 0.74 | sec passed 31 |\n"
          ],
          "name": "stdout"
        }
      ]
    },
    {
      "cell_type": "code",
      "metadata": {
        "colab": {
          "base_uri": "https://localhost:8080/"
        },
        "id": "TNZrmwOPsbTh",
        "outputId": "736d1c57-3a94-4c7b-9ce6-859e6302e6ce"
      },
      "source": [
        "# train Y | X, t\n",
        "x, context = data_wrappers[1].preprocess(df2_balanced)\n",
        "wgan.train(generators[1], critics[1], x, context, specs[1])"
      ],
      "execution_count": null,
      "outputs": [
        {
          "output_type": "stream",
          "text": [
            "epoch 0 | step 9 | WD_test 0.14 | WD_train 0.05 | sec passed 0 |\n",
            "epoch 100 | step 809 | WD_test 0.09 | WD_train 0.05 | sec passed 32 |\n",
            "epoch 200 | step 1609 | WD_test 0.09 | WD_train 0.05 | sec passed 32 |\n",
            "epoch 300 | step 2409 | WD_test 0.09 | WD_train 0.05 | sec passed 32 |\n",
            "epoch 400 | step 3209 | WD_test 0.09 | WD_train 0.05 | sec passed 33 |\n",
            "epoch 500 | step 4009 | WD_test 0.09 | WD_train 0.05 | sec passed 32 |\n",
            "epoch 600 | step 4809 | WD_test 0.09 | WD_train 0.05 | sec passed 32 |\n",
            "epoch 700 | step 5609 | WD_test 0.09 | WD_train 0.05 | sec passed 32 |\n",
            "epoch 800 | step 6409 | WD_test 0.09 | WD_train 0.05 | sec passed 32 |\n",
            "epoch 900 | step 7209 | WD_test 0.09 | WD_train 0.05 | sec passed 32 |\n"
          ],
          "name": "stdout"
        }
      ]
    },
    {
      "cell_type": "code",
      "metadata": {
        "id": "TymK8g8_3AUj",
        "colab": {
          "base_uri": "https://localhost:8080/"
        },
        "outputId": "f73fe7e5-6673-4c21-c35f-9e73910273c0"
      },
      "source": [
        "# train Y | X, t\n",
        "x, context = data_wrappers[1].preprocess(df_balanced)\n",
        "wgan.train(generators[1], critics[1], x, context, specs[1])"
      ],
      "execution_count": null,
      "outputs": [
        {
          "output_type": "stream",
          "text": [
            "epoch 0 | step 9 | WD_test 0.1 | WD_train 0.05 | sec passed 0 |\n",
            "epoch 100 | step 809 | WD_test -0.12 | WD_train 0.21 | sec passed 30 |\n",
            "epoch 200 | step 1609 | WD_test 0.14 | WD_train 0.14 | sec passed 30 |\n",
            "epoch 300 | step 2409 | WD_test -0.0 | WD_train 0.21 | sec passed 30 |\n",
            "epoch 400 | step 3209 | WD_test 0.1 | WD_train 0.26 | sec passed 30 |\n",
            "epoch 500 | step 4009 | WD_test 0.05 | WD_train 0.25 | sec passed 30 |\n",
            "epoch 600 | step 4809 | WD_test 0.0 | WD_train 0.24 | sec passed 30 |\n",
            "epoch 700 | step 5609 | WD_test 0.16 | WD_train 0.24 | sec passed 30 |\n",
            "epoch 800 | step 6409 | WD_test 0.05 | WD_train 0.22 | sec passed 30 |\n",
            "epoch 900 | step 7209 | WD_test 0.27 | WD_train 0.23 | sec passed 30 |\n"
          ],
          "name": "stdout"
        }
      ]
    },
    {
      "cell_type": "markdown",
      "metadata": {
        "id": "MIcaY-ZgyGW4"
      },
      "source": [
        "## Steps 6 & 8"
      ]
    },
    {
      "cell_type": "code",
      "metadata": {
        "id": "mENzV8l1iBZe"
      },
      "source": [
        "# simulate data with conditional WGANs\n",
        "df_generated = data_wrappers[0].apply_generator(generators[0], df.sample(int(1e6), replace=True))\n",
        "df_generated = data_wrappers[1].apply_generator(generators[1], df_generated)\n",
        "\n",
        "\n",
        "# add counterfactual outcomes\n",
        "from copy import copy\n",
        "df_generated_cf = copy(df_generated)\n",
        "df_generated_cf[\"t\"] = 1 - df_generated_cf[\"t\"] \n",
        "df_generated[\"re78_cf\"] = data_wrappers[1].apply_generator(generators[1], df_generated_cf)[\"re78\"]\n",
        "\n",
        "# save to .feather\n",
        "#df_generated.to_feather(\"data/generated/{}_generated.feather\".format(name))"
      ],
      "execution_count": null,
      "outputs": []
    },
    {
      "cell_type": "code",
      "metadata": {
        "id": "6Ux-7SjXuwDK"
      },
      "source": [
        "# simulate data with conditional WGANs\n",
        "df2_generated = data_wrappers[0].apply_generator(generators[0], df2.sample(int(1e6), replace=True))\n",
        "df2_generated = data_wrappers[1].apply_generator(generators[1], df2_generated)\n",
        "\n",
        "\n",
        "# add counterfactual outcomes\n",
        "from copy import copy\n",
        "df2_generated_cf = copy(df2_generated)\n",
        "df2_generated_cf[\"treatment\"] = 1 - df2_generated_cf[\"treatment\"] \n",
        "df2_generated[\"ffriend\"] = data_wrappers[1].apply_generator(generators[1], df2_generated_cf)[\"ffriend\"]\n",
        "\n",
        "# save to .feather\n",
        "#df_generated.to_feather(\"data/generated/{}_generated.feather\".format(name))"
      ],
      "execution_count": null,
      "outputs": []
    },
    {
      "cell_type": "code",
      "metadata": {
        "id": "MaUuXHZ2vInc",
        "colab": {
          "base_uri": "https://localhost:8080/"
        },
        "outputId": "ef761e6b-42ba-4c6d-a890-6ac0ee752caa"
      },
      "source": [
        "print(df2_generated)"
      ],
      "execution_count": null,
      "outputs": [
        {
          "output_type": "stream",
          "text": [
            "        treatment  ffriend  bfriend  ...    f_csize  b_schoolid  source\n",
            "0               0      1.0      0.0  ...  18.673122  113.601013    real\n",
            "1               1      1.0      1.0  ...  35.329136    0.000000    real\n",
            "2               1      1.0      1.0  ...  23.923531    0.000000    real\n",
            "3               1      1.0      1.0  ...  34.891190    0.000000    real\n",
            "4               1      1.0      1.0  ...  34.139519    0.000000    real\n",
            "...           ...      ...      ...  ...        ...         ...     ...\n",
            "999995          1      1.0      2.0  ...  34.852070    0.000000    real\n",
            "999996          1      1.0      1.0  ...  36.877655    0.000000    real\n",
            "999997          1      1.0      0.0  ...  43.150227  163.199554    real\n",
            "999998          1      1.0      1.0  ...  22.183723    0.000000    real\n",
            "999999          1      1.0      1.0  ...  34.021065    0.000000    real\n",
            "\n",
            "[1000000 rows x 13 columns]\n"
          ],
          "name": "stdout"
        }
      ]
    },
    {
      "cell_type": "code",
      "metadata": {
        "id": "rQtGe_MH746N",
        "colab": {
          "base_uri": "https://localhost:8080/",
          "height": 1000
        },
        "outputId": "76cb8e16-b48f-4de5-d57b-c830d7b72aa1"
      },
      "source": [
        "print(\"att:\", ((df_generated.re78-df_generated.re78_cf) * (2*df_generated.t - 1))[df_generated.t==1].mean())\n",
        "wgan.compare_dfs(df, df_generated, \n",
        "                 scatterplot=dict(x=[\"re74\", \"age\", \"education\"], y=[\"re78\", \"re75\"], samples=400, smooth=0),\n",
        "                 table_groupby=[\"t\"],\n",
        "                 histogram=dict(variables=[\"re78\", \"re74\", \"age\", \"education\"], nrow=2, ncol=2),\n",
        "                 figsize=3)"
      ],
      "execution_count": null,
      "outputs": [
        {
          "output_type": "stream",
          "text": [
            "att: -167.4925962867065\n",
            "-------------comparison of means-------------\n",
            "t               0.0                1.0         \n",
            "source         fake      real     fake     real\n",
            "age           33.87     33.23    26.35    25.82\n",
            "education     12.28     12.03    10.61    10.35\n",
            "black          0.08      0.07     0.84     0.84\n",
            "hispanic       0.07      0.07     0.06     0.06\n",
            "married        0.71      0.71     0.18     0.19\n",
            "nodegree       0.29      0.30     0.70     0.71\n",
            "re74       13579.77  14016.80  1707.26  2095.57\n",
            "re75       13151.16  13650.80  1111.49  1532.06\n",
            "re78       14641.72  14846.66  4954.14  6349.14\n",
            "-------------comparison of stds-------------\n",
            "t              0.0               1.0         \n",
            "source        fake     real     fake     real\n",
            "age          11.17    11.05     7.00     7.16\n",
            "education     2.84     2.87     1.89     2.01\n",
            "black         0.27     0.26     0.37     0.36\n",
            "hispanic      0.25     0.26     0.23     0.24\n",
            "married       0.45     0.45     0.38     0.39\n",
            "nodegree      0.46     0.46     0.46     0.46\n",
            "re74       9639.84  9569.80  3855.42  4886.62\n",
            "re75       9285.33  9270.40  2632.01  3219.25\n",
            "re78       9883.97  9647.39  5437.66  7867.40\n"
          ],
          "name": "stdout"
        },
        {
          "output_type": "stream",
          "text": [
            "/usr/local/lib/python3.7/dist-packages/numpy/core/_asarray.py:83: VisibleDeprecationWarning: Creating an ndarray from ragged nested sequences (which is a list-or-tuple of lists-or-tuples-or ndarrays with different lengths or shapes) is deprecated. If you meant to do this, you must specify 'dtype=object' when creating the ndarray\n",
            "  return array(a, dtype, copy=False, order=order)\n"
          ],
          "name": "stderr"
        },
        {
          "output_type": "display_data",
          "data": {
            "image/png": "[encoded data removed]",
            "text/plain": [
              "<Figure size 432x216 with 2 Axes>"
            ]
          },
          "metadata": {
            "tags": [],
            "needs_background": "light"
          }
        },
        {
          "output_type": "display_data",
          "data": {
            "image/png": "[encoded data removed]",
            "text/plain": [
              "<Figure size 432x432 with 4 Axes>"
            ]
          },
          "metadata": {
            "tags": [],
            "needs_background": "light"
          }
        },
        {
          "output_type": "display_data",
          "data": {
            "image/png": "[encoded data removed]",
            "text/plain": [
              "<Figure size 648x432 with 6 Axes>"
            ]
          },
          "metadata": {
            "tags": [],
            "needs_background": "light"
          }
        }
      ]
    },
    {
      "cell_type": "code",
      "metadata": {
        "colab": {
          "base_uri": "https://localhost:8080/"
        },
        "id": "GaopuDyioAPQ",
        "outputId": "872e9c85-3608-4b25-abb8-3e04a30879c0"
      },
      "source": [
        "print(df_generated)"
      ],
      "execution_count": null,
      "outputs": [
        {
          "output_type": "stream",
          "text": [
            "       source    t        age  ...          re75          re78       re78_cf\n",
            "0        fake  0.0  34.202232  ...   9142.297852  18534.562500  15300.093750\n",
            "1        fake  0.0  25.686167  ...      0.000000   2692.714844   5633.085449\n",
            "2        fake  0.0  47.175728  ...  23439.255859  26306.789062  25620.718750\n",
            "3        fake  0.0  27.613186  ...      0.000000      0.000000   4613.242676\n",
            "4        fake  0.0  40.814003  ...   9122.589844  20976.351562  16766.849609\n",
            "...       ...  ...        ...  ...           ...           ...           ...\n",
            "999995   fake  0.0  32.908028  ...   9482.129883  19978.039062   4741.452637\n",
            "999996   fake  0.0  26.356995  ...  19510.714844  16402.160156  10902.927734\n",
            "999997   fake  0.0  35.689857  ...  25075.433594  29753.554688  29376.910156\n",
            "999998   fake  0.0  23.850750  ...   7259.390625  15772.792969   3426.900879\n",
            "999999   fake  0.0  21.209393  ...   4802.629883      0.000000   7653.113770\n",
            "\n",
            "[1000000 rows x 12 columns]\n"
          ],
          "name": "stdout"
        }
      ]
    },
    {
      "cell_type": "code",
      "metadata": {
        "id": "X4cOdmIKoCBy"
      },
      "source": [
        ""
      ],
      "execution_count": null,
      "outputs": []
    }
  ]
}